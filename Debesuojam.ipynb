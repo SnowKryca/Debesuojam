{
 "cells": [
  {
   "cell_type": "code",
   "execution_count": null,
   "metadata": {},
   "outputs": [],
   "source": [
    "import pandas as pd\n",
    "import numpy as np\n",
    "import matplotlib.pyplot as plt\n",
    "import seaborn as sns\n",
    "import plotly.express as px\n",
    "import statsmodels.api as sm\n",
    "from sklearn.feature_selection import VarianceThreshold\n",
    "from statsmodels.stats.outliers_influence import variance_inflation_factor\n",
    "from sklearn.model_selection import train_test_split\n",
    "from sklearn.preprocessing import StandardScaler\n",
    "from sklearn.model_selection import KFold\n",
    "from sklearn.metrics import mean_squared_error\n",
    "from sklearn.linear_model import SGDRegressor"
   ]
  },
  {
   "cell_type": "code",
   "execution_count": null,
   "metadata": {},
   "outputs": [],
   "source": [
    "smallData = pd.read_csv('10kData/10k.csv', encoding='Windows-1252', delimiter=';', dtype={'column_name': str}, low_memory=False)\n",
    "bigData = pd.read_csv('100kData/100k.csv', encoding='Windows-1252', delimiter=';', dtype={'column_name': str}, low_memory=False)\n",
    "input_data = {\n",
    "    'bathrooms': 2,\n",
    "    'has_photo': 1,\n",
    "    'square_feet': 230,\n",
    "    'state': \"VA\",\n",
    "    'latitude': 39.991,\n",
    "    'longitude': -77.026,\n",
    "    'source': \"RentLingo\",\n",
    "    'time': 1577359235\n",
    "}\n",
    "predictVal = [\"price\"]"
   ]
  }
 ],
 "metadata": {
  "language_info": {
   "name": "python"
  }
 },
 "nbformat": 4,
 "nbformat_minor": 2
}
